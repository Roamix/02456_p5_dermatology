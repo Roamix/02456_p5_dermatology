{
 "cells": [
  {
   "cell_type": "markdown",
   "metadata": {},
   "source": [
    "# Imports"
   ]
  },
  {
   "cell_type": "code",
   "execution_count": 1,
   "metadata": {
    "collapsed": true
   },
   "outputs": [],
   "source": [
    "# Utilities\n",
    "import numpy as np\n",
    "import pandas as pd\n",
    "import cv2\n",
    "import spatial_transformer as spn\n",
    "\n",
    "# Tensorflow\n",
    "import tensorflow as tf\n",
    "\n",
    "# Visualization\n",
    "import matplotlib.pyplot as plt\n",
    "plt.style.use(\"seaborn\")\n",
    "\n",
    "# IPython\n",
    "from IPython.display import Markdown, display\n",
    "def printmd(string):\n",
    "    display(Markdown(string))"
   ]
  },
  {
   "cell_type": "markdown",
   "metadata": {},
   "source": [
    "# Functions"
   ]
  },
  {
   "cell_type": "markdown",
   "metadata": {},
   "source": [
    "### Helper functions"
   ]
  },
  {
   "cell_type": "code",
   "execution_count": 2,
   "metadata": {
    "collapsed": true
   },
   "outputs": [],
   "source": [
    "def total_parameters():\n",
    "    \"\"\"\n",
    "        Calculates the total number of trainable parameters in the default tensorflow graph.\n",
    "    \"\"\"\n",
    "    \n",
    "    total_params = 0\n",
    "    for var in tf.trainable_variables():\n",
    "        shape = var.get_shape()\n",
    "        \n",
    "        var_params = 1\n",
    "        for dim in shape:\n",
    "            var_params *= dim.value\n",
    "        \n",
    "        total_params += var_params\n",
    "        \n",
    "    return total_params\n",
    "\n",
    "def one_hot(y, num_classes):\n",
    "    return np.eye(num_classes)[y]\n",
    "\n",
    "def _epoch_batches(X, y, batch_size):\n",
    "    \"\"\"\n",
    "        Creates a generator for training batches\n",
    "    \"\"\"\n",
    "    if batch_size == 1:\n",
    "        yield X, y\n",
    "        \n",
    "    num_observations = X.shape[0]\n",
    "    num_batches = int(num_observations / batch_size)\n",
    "    for i in range(num_batches):\n",
    "        x_batch = X[i*batch_size:(i+1)*batch_size]\n",
    "        y_batch = y[i*batch_size:(i+1)*batch_size]\n",
    "\n",
    "        yield x_batch, y_batch\n",
    "\n",
    "def _validation_batches(X_val, y_val, batch_size):\n",
    "    \"\"\"\n",
    "        Creates a generator for validation batches\n",
    "    \"\"\"\n",
    "    if batch_size == 1:\n",
    "        yield X_val, y_val\n",
    "    \n",
    "    num_observations = X_val.shape[0]\n",
    "    num_batches = int(num_observations / batch_size)\n",
    "    for i in range(num_batches):\n",
    "        xv_batch = X_val[i*batch_size:(i+1)*batch_size]\n",
    "        yv_batch = y_val[i*batch_size:(i+1)*batch_size]\n",
    "        \n",
    "        yield xv_batch, yv_batch\n",
    "        \n",
    "def precision_recall(confmat):\n",
    "    \"\"\"\n",
    "        Calculates the precision and recall of a confusion matrix, and returns the confusion matrix\n",
    "        with precision and recall\n",
    "    \"\"\"\n",
    "    acc = np.trace(confmat)/np.sum(confmat)\n",
    "    pr = [confmat[i,i]/sum(confmat[:,i]) if confmat[i,i] != 0 else 0 for i in range(confmat.shape[0])]\n",
    "    rc = [confmat[i,i]/sum(confmat[i,:]) if confmat[i,i] != 0 else 0 for i in range(confmat.shape[0])]\n",
    "    \n",
    "    df = pd.DataFrame(confmat, columns=[\"acne\", \"rosacea\"])#\n",
    "    df = df.rename_axis(\"true labels\")\n",
    "    df = df.rename_axis(\"predictions\", axis=\"columns\")\n",
    "    df.loc[-1] = [str(i)[:5] for i in pr]\n",
    "    rcs = [str(i)[:5] for i in rc]\n",
    "    rcs.append(\"\")\n",
    "    df[\"recall\"] = rcs\n",
    "    df.rename(index={0:\"acne\", 1:\"rosacea\", -1:\"precision\"}, inplace=True)#\n",
    "    print(\"Test accuracy:\", acc)\n",
    "    return df\n",
    "\n",
    "def pr_rc(confmat):\n",
    "    \"\"\"\n",
    "        Calculates the precision and recall of a confusion matrix.\n",
    "    \"\"\"\n",
    "    pr = [confmat[i,i]/sum(confmat[:,i]) if confmat[i,i] != 0 else 0 for i in range(confmat.shape[0])]\n",
    "    rc = [confmat[i,i]/sum(confmat[i,:]) if confmat[i,i] != 0 else 0 for i in range(confmat.shape[0])]\n",
    "    return np.mean(pr), np.mean(rc)"
   ]
  },
  {
   "cell_type": "markdown",
   "metadata": {},
   "source": [
    "### Model related functions"
   ]
  },
  {
   "cell_type": "markdown",
   "metadata": {},
   "source": [
    "#### Spatial Transformer Network and Classification Network"
   ]
  },
  {
   "cell_type": "code",
   "execution_count": 3,
   "metadata": {
    "collapsed": true
   },
   "outputs": [],
   "source": [
    "# spatial transformer network\n",
    "def spatial_transformer_network(X_in, layers=[(8, [5,5], \"MAX\", [2,2])]*2, dense_units=50, factor=2):\n",
    "    \"\"\"\n",
    "        Implements a spatial transformer network onto the default tensorflow graph.\n",
    "        \n",
    "        The `layers` parameter is an array of tuples, where each tuple corresponds to a layer in the localization network.\n",
    "        The tuple elements specify number of filters, window size, pool type, and pool window size\n",
    "    \"\"\"\n",
    "    with tf.name_scope(\"localization_network\"):\n",
    "        # first hidden layer\n",
    "        loc_pool1 = tf.nn.pool(X_in, pooling_type=layers[0][2], window_shape=layers[0][3], padding=\"SAME\")\n",
    "        loc_conv1 = tf.layers.conv2d(loc_pool1, filters=layers[0][0], kernel_size=layers[0][1], strides=[1, 1], padding=\"SAME\")\n",
    "        spn_layer_outs = [loc_conv1]\n",
    "        \n",
    "        # consecutive hidden layers\n",
    "        for layer in layers[1:]:\n",
    "            loc_pooli = tf.nn.pool(spn_layer_outs[-1], pooling_type=layer[2], window_shape=layer[3], padding=\"SAME\")\n",
    "            loc_convi = tf.layers.conv2d(loc_pooli, filters=layer[0], kernel_size=layer[1], strides=[1, 1], padding=\"SAME\")\n",
    "            spn_layer_outs.append(loc_convi)\n",
    "        \n",
    "        # output layer\n",
    "        loc_flatten = tf.contrib.layers.flatten(inputs=spn_layer_outs[-1])\n",
    "        loc_dense1 = tf.layers.dense(loc_flatten, units=dense_units, activation=tf.nn.relu)\n",
    "\n",
    "        # output (theta)\n",
    "        W_theta = tf.get_variable(shape=[50, 6], initializer=tf.constant_initializer(0.0), name=\"W_theta\")\n",
    "        b_theta = tf.Variable(tf.constant([1, 0, 0, 0, 1, 0], dtype=tf.float32), name=\"b_theta\")\n",
    "        theta = tf.matmul(loc_dense1, W_theta) + b_theta\n",
    "\n",
    "    # grid generator\n",
    "    with tf.name_scope(\"grid_generator\"):\n",
    "        V_dim = D[0]//factor\n",
    "        V = spn.transformer_layer(U=X_in, theta=theta, out_size=(V_dim, V_dim))\n",
    "        V.set_shape([None, V_dim, V_dim, C])\n",
    "        V_val = tf.transpose(V, [0, 2, 3, 1])\n",
    "        \n",
    "    return V, V_val\n",
    "\n",
    "# classification network\n",
    "def classification_network(X_in, layers=[(16, [3,3], \"MAX\", [2,2])]*2, dense_units=256):\n",
    "    \"\"\"\n",
    "        Implements a convolutional classification network onto the default tensorflow graph.\n",
    "        \n",
    "        The `layers` parameter is an array of tuples, where each tuple corresponds to a layer in the network.\n",
    "        The tuple elements specify number of filters, window size, pool type, and pool window size\n",
    "    \"\"\"\n",
    "    \n",
    "    with tf.name_scope(\"classifier\"):\n",
    "        # first hidden layer\n",
    "        clf_conv1 = tf.layers.conv2d(X_in, filters=layers[0][0], kernel_size=layers[0][1], padding=\"SAME\")\n",
    "        clf_pool1 = tf.nn.pool(clf_conv1, pooling_type=layers[0][2], window_shape=layers[0][3], padding=\"SAME\")\n",
    "        clf_layer_outs = [clf_pool1]\n",
    "        \n",
    "        # consecutive hidden layers\n",
    "        for layer in layers[1:]:\n",
    "            clf_convi = tf.layers.conv2d(clf_layer_outs[-1], filters=layer[0], kernel_size=layer[1], padding=\"SAME\")\n",
    "            clf_pooli = tf.nn.pool(clf_convi, pooling_type=layer[2], window_shape=layer[3], padding=\"SAME\")\n",
    "            clf_layer_outs.append(clf_pooli)\n",
    "            \n",
    "        # output layer\n",
    "        clf_flatten = tf.contrib.layers.flatten(inputs=clf_layer_outs[-1])\n",
    "        clf_dense1 = tf.layers.dense(clf_flatten, units=dense_units, activation=tf.nn.relu)\n",
    "        #clf_out = tf.layers.dense(clf_dense1, units=K, activation=tf.nn.softmax)\n",
    "        clf_out = tf.layers.dense(clf_dense1, units=K)\n",
    "        \n",
    "    return clf_out"
   ]
  },
  {
   "cell_type": "markdown",
   "metadata": {},
   "source": [
    "#### Training loop"
   ]
  },
  {
   "cell_type": "code",
   "execution_count": 4,
   "metadata": {
    "collapsed": true,
    "scrolled": false
   },
   "outputs": [],
   "source": [
    "def train_model(n_epochs, train_batch_size, val_batch_size, spn=False, writer_path=\"tb_logdir/default\"):\n",
    "    \"\"\"\n",
    "        Function for training the model.\n",
    "    \"\"\"\n",
    "\n",
    "    with tf.Session() as sess:\n",
    "        sess.run(tf.global_variables_initializer())\n",
    "\n",
    "        # Tensorboard summary writers\n",
    "        train_writer = tf.summary.FileWriter(writer_path + \"/training\", graph=sess.graph)\n",
    "        validation_writer = tf.summary.FileWriter(writer_path + \"/validation\")\n",
    "\n",
    "        # Evaluation data structures to hold mean performance for each epoch.\n",
    "        epoch_mean_train_costs, epoch_mean_train_errors = [], []\n",
    "        epoch_mean_val_errors = []\n",
    "        spn_imgs = []\n",
    "\n",
    "        for epoch in range(n_epochs):\n",
    "\n",
    "            # Evalutation data structures to hold performance for each batch\n",
    "            batch_train_costs, batch_train_errors = [], []\n",
    "            batch_val_errors = []\n",
    "\n",
    "            # training\n",
    "            for x_batch, y_batch in _epoch_batches(X_train, y_train, train_batch_size):\n",
    "\n",
    "                # run training operation and collect cost and error\n",
    "                train_feed_dict = {x_pl:x_batch, y_pl:y_batch}\n",
    "                train_fetches = [train_op, summary_merged, cost, error]\n",
    "                _, tr_summ, train_cost, train_error = sess.run(train_fetches, train_feed_dict)\n",
    "\n",
    "                batch_train_costs.append(train_cost)\n",
    "                batch_train_errors.append(train_error)\n",
    "\n",
    "            epoch_mean_train_costs.append(np.mean(batch_train_costs))\n",
    "            epoch_mean_train_errors.append(np.mean(batch_train_errors))\n",
    "            train_writer.add_summary(tr_summ, epoch)\n",
    "\n",
    "            # validation\n",
    "            confusion_matrix = [[0]*K]*K\n",
    "            if spn:\n",
    "                for xv_batch, yv_batch in _validation_batches(X_val, y_val, val_batch_size):\n",
    "\n",
    "                    # collect validation error and spn image\n",
    "                    val_feed_dict = {x_pl:xv_batch, y_pl:yv_batch}\n",
    "                    val_fetches = [error, V_val, confmat, summary_merged]\n",
    "                    val_error, trans_img, batch_confmat, err_summ = sess.run(val_fetches, val_feed_dict)\n",
    "\n",
    "                    batch_val_errors.append(val_error)\n",
    "                    spn_imgs.append(trans_img)\n",
    "                    confusion_matrix = np.add(confusion_matrix, batch_confmat)\n",
    "\n",
    "                epoch_mean_val_errors.append(np.mean(batch_val_errors))\n",
    "                spn_eval = np.concatenate(spn_imgs, axis=0)\n",
    "                pr, rc = pr_rc(confusion_matrix)\n",
    "                validation_writer.add_summary(err_summ, epoch)\n",
    "\n",
    "            else:\n",
    "                for xv_batch, yv_batch in _validation_batches(X_val, y_val, val_batch_size):\n",
    "\n",
    "                    # collect validation error\n",
    "                    val_feed_dict = {x_pl:xv_batch, y_pl:yv_batch}\n",
    "                    val_fetches = [error, confmat, summary_merged]\n",
    "                    val_error, batch_confmat, err_summ = sess.run(val_fetches, val_feed_dict)\n",
    "\n",
    "                    batch_val_errors.append(val_error)\n",
    "                    confusion_matrix = np.add(confusion_matrix, batch_confmat)\n",
    "\n",
    "                epoch_mean_val_errors.append(np.mean(batch_val_errors))\n",
    "                pr, rc = pr_rc(confusion_matrix)\n",
    "                validation_writer.add_summary(err_summ, epoch)\n",
    "\n",
    "\n",
    "            print(\"At epoch {:<3}: tr_cost {:.7f}, tr_err {:.7f} | val_err {:.7f}, val_pr {:.7f}, val_rc {:.7f}\".format(epoch,\n",
    "                                                                                          epoch_mean_train_costs[-1],\n",
    "                                                                                          epoch_mean_train_errors[-1],\n",
    "                                                                                          epoch_mean_val_errors[-1],\n",
    "                                                                                          pr, rc))\n",
    "        \n",
    "        confusion_matrix = sess.run(confmat, feed_dict={x_pl:X_val, y_pl:y_val})\n",
    "        return epoch_mean_train_costs, epoch_mean_train_errors, epoch_mean_val_errors, confusion_matrix"
   ]
  },
  {
   "cell_type": "markdown",
   "metadata": {},
   "source": [
    "# Load Data"
   ]
  },
  {
   "cell_type": "code",
   "execution_count": 5,
   "metadata": {},
   "outputs": [
    {
     "name": "stdout",
     "output_type": "stream",
     "text": [
      "Total number of observations: 2308\n",
      "Image dimensions: (128, 128)\n",
      "Number of image color channels: 3\n",
      "Number of classes: 2\n",
      "0: Acne, 1: Rosacea\n",
      "Number of acne patients in training set: 583\n",
      "Number of rosacea patients in training set: 1494\n",
      "Number of acne patients in validation set: 73\n",
      "Number of rosacea patients in validation set: 158\n"
     ]
    }
   ],
   "source": [
    "data = np.load(\"../data/data_matrix_128_derm101.npz\")\n",
    "X = data[\"X\"].astype(np.uint8)\n",
    "y = data[\"y\"].astype(np.uint8).flatten()\n",
    "\n",
    "N = X.shape[0]\n",
    "D = X.shape[1:3]\n",
    "C = X.shape[3]\n",
    "K = 2\n",
    "\n",
    "print(\"Total number of observations:\", N)\n",
    "print(\"Image dimensions:\", D)\n",
    "print(\"Number of image color channels:\", C)\n",
    "print(\"Number of classes:\", K)\n",
    "print(\"0: Acne, 1: Rosacea\")\n",
    "\n",
    "y = one_hot(y, K)\n",
    "\n",
    "# 90% for training 10% for validation\n",
    "train_idx = int(X.shape[0]*0.9)\n",
    "\n",
    "X_train = X[:train_idx]\n",
    "y_train = y[:train_idx]\n",
    "X_val = X[train_idx:]\n",
    "y_val = y[train_idx:]\n",
    "\n",
    "print(\"Number of acne patients in training set:\", sum(y_train==[1,0])[0])\n",
    "print(\"Number of rosacea patients in training set:\", sum(y_train==[0,1])[0])\n",
    "\n",
    "print(\"Number of acne patients in validation set:\", sum(y_val==[1,0])[0])\n",
    "print(\"Number of rosacea patients in validation set:\", sum(y_val==[0,1])[0])"
   ]
  },
  {
   "cell_type": "markdown",
   "metadata": {},
   "source": [
    "# Build Model"
   ]
  },
  {
   "cell_type": "code",
   "execution_count": 6,
   "metadata": {},
   "outputs": [
    {
     "name": "stdout",
     "output_type": "stream",
     "text": [
      "Total parameters: 33558638\n"
     ]
    }
   ],
   "source": [
    "# input placeholders\n",
    "x_pl = tf.placeholder(shape=[None, D[0], D[1], C], dtype=tf.float32, name=\"X\")\n",
    "y_pl = tf.placeholder(shape=[None, K], dtype=tf.float32, name=\"y\")\n",
    "\n",
    "\"\"\"\n",
    "Spatial Transformer Network\n",
    "    Comment out below code to include the spatial transformer\n",
    "\"\"\"\n",
    "#V, V_val = spatial_transformer_network(x_pl,\n",
    "#                                       layers=[(8, [5,5], \"MAX\", [2,2])]*2,\n",
    "#                                       dense_units=50,\n",
    "#                                       factor=3)\n",
    "\n",
    "\n",
    "\"\"\"\n",
    "Classificaiton network\n",
    "   Input V instead of x_pl if using spation transformer \n",
    "\"\"\"\n",
    "clf_out = classification_network(x_pl,\n",
    "                                 layers=[(16, [5,5], \"MAX\", [2,2]),\n",
    "                                        (8, [3,3], \"MAX\", [2,2]),\n",
    "                                        (4, [3,3], \"MAX\", [2,2])],\n",
    "                                 dense_units=512)\n",
    "\n",
    "# cost function\n",
    "with tf.name_scope(\"cost_function\"):\n",
    "    cost = tf.losses.softmax_cross_entropy(logits=clf_out, multi_class_labels=y_pl)\n",
    "    \n",
    "# optimizer\n",
    "with tf.name_scope(\"optimizer\"):\n",
    "    optimizer = tf.train.AdamOptimizer(0.0001)\n",
    "    train_op = optimizer.minimize(cost)\n",
    "    \n",
    "# performance\n",
    "with tf.name_scope(\"performance\"):\n",
    "    prediction = tf.argmax(clf_out, axis=1)\n",
    "    labels = tf.argmax(y_pl, axis=1)\n",
    "    \n",
    "    confmat = tf.confusion_matrix(predictions=prediction, labels=labels, num_classes=K)\n",
    "    \n",
    "    correct_preds = tf.equal(labels, prediction)\n",
    "    accuracy = tf.reduce_mean(tf.cast(correct_preds, dtype=tf.float32))\n",
    "    error = 1 - accuracy\n",
    "    \n",
    "print(\"Total parameters:\", total_parameters())"
   ]
  },
  {
   "cell_type": "code",
   "execution_count": 7,
   "metadata": {
    "collapsed": true
   },
   "outputs": [],
   "source": [
    "# tensorboard summaries (training statistics)\n",
    "cost_summary = tf.summary.scalar(\"Cost\", cost)\n",
    "error_summary = tf.summary.scalar(\"Error\", error)\n",
    "summary_merged = tf.summary.merge_all()"
   ]
  },
  {
   "cell_type": "markdown",
   "metadata": {},
   "source": [
    "# Train Model\n",
    "OBS. Set `spn=True` if using spatial transformer."
   ]
  },
  {
   "cell_type": "code",
   "execution_count": 8,
   "metadata": {},
   "outputs": [
    {
     "name": "stdout",
     "output_type": "stream",
     "text": [
      "At epoch 0  : tr_cost 125.1121140, tr_err 0.3673171 | val_err 0.3217391, val_pr 0.5422222, val_rc 0.5041445\n",
      "At epoch 1  : tr_cost 6.4771080, tr_err 0.2760976 | val_err 0.3000000, val_pr 0.6484628, val_rc 0.5640433\n",
      "At epoch 2  : tr_cost 2.8274772, tr_err 0.2136586 | val_err 0.3130435, val_pr 0.6310058, val_rc 0.5178431\n",
      "At epoch 3  : tr_cost 4.0134354, tr_err 0.2326829 | val_err 0.3130434, val_pr 0.6197592, val_rc 0.5251723\n",
      "At epoch 4  : tr_cost 3.1042917, tr_err 0.1834146 | val_err 0.2782609, val_pr 0.6789111, val_rc 0.6789111\n",
      "At epoch 5  : tr_cost 0.6529230, tr_err 0.0824390 | val_err 0.3217391, val_pr 0.6422313, val_rc 0.6543932\n",
      "At epoch 6  : tr_cost 0.5855743, tr_err 0.0848780 | val_err 0.3391304, val_pr 0.6640950, val_rc 0.6892941\n",
      "At epoch 7  : tr_cost 0.9462407, tr_err 0.1151220 | val_err 0.3260870, val_pr 0.6723382, val_rc 0.6988483\n",
      "At epoch 8  : tr_cost 2.4341516, tr_err 0.1697561 | val_err 0.3217392, val_pr 0.6007562, val_rc 0.5627781\n",
      "At epoch 9  : tr_cost 1.0537454, tr_err 0.1029268 | val_err 0.2956522, val_pr 0.6631738, val_rc 0.6698368\n",
      "At epoch 10 : tr_cost 1.1323066, tr_err 0.1107317 | val_err 0.2913043, val_pr 0.6649576, val_rc 0.5814065\n",
      "At epoch 11 : tr_cost 0.6480449, tr_err 0.0765854 | val_err 0.3086956, val_pr 0.6352513, val_rc 0.5356862\n",
      "At epoch 12 : tr_cost 0.3850079, tr_err 0.0560976 | val_err 0.2739130, val_pr 0.6797003, val_rc 0.6527790\n",
      "At epoch 13 : tr_cost 0.0737054, tr_err 0.0175610 | val_err 0.3086956, val_pr 0.6591270, val_rc 0.6749411\n",
      "At epoch 14 : tr_cost 0.0496465, tr_err 0.0112195 | val_err 0.2956522, val_pr 0.6631738, val_rc 0.6698368\n",
      "At epoch 15 : tr_cost 0.0324541, tr_err 0.0068293 | val_err 0.3260870, val_pr 0.6634032, val_rc 0.6878545\n",
      "At epoch 16 : tr_cost 0.0373861, tr_err 0.0087805 | val_err 0.3173913, val_pr 0.6590909, val_rc 0.6795655\n",
      "At epoch 17 : tr_cost 0.0465048, tr_err 0.0112195 | val_err 0.3043478, val_pr 0.6626823, val_rc 0.6781258\n",
      "At epoch 18 : tr_cost 0.0469217, tr_err 0.0078049 | val_err 0.3304348, val_pr 0.6521673, val_rc 0.6736759\n",
      "At epoch 19 : tr_cost 0.0480628, tr_err 0.0136585 | val_err 0.3521739, val_pr 0.6829913, val_rc 0.7053922\n",
      "At epoch 20 : tr_cost 0.0579295, tr_err 0.0146342 | val_err 0.2956522, val_pr 0.6575427, val_rc 0.6551784\n",
      "At epoch 21 : tr_cost 0.0188495, tr_err 0.0029268 | val_err 0.2869565, val_pr 0.6688771, val_rc 0.6688771\n",
      "At epoch 22 : tr_cost 0.0107448, tr_err 0.0009756 | val_err 0.2913043, val_pr 0.6581221, val_rc 0.6437047\n",
      "At epoch 23 : tr_cost 0.0161192, tr_err 0.0009756 | val_err 0.2739131, val_pr 0.6800994, val_rc 0.6454498\n",
      "At epoch 24 : tr_cost 0.0113504, tr_err 0.0009756 | val_err 0.2826087, val_pr 0.6691628, val_rc 0.6537388\n",
      "At epoch 25 : tr_cost 0.0167203, tr_err 0.0009756 | val_err 0.2782609, val_pr 0.6737662, val_rc 0.6459297\n",
      "At epoch 26 : tr_cost 0.0114735, tr_err 0.0009756 | val_err 0.2913043, val_pr 0.6589797, val_rc 0.6473693\n",
      "At epoch 27 : tr_cost 0.0179484, tr_err 0.0009756 | val_err 0.2695652, val_pr 0.6867503, val_rc 0.6779513\n",
      "At epoch 28 : tr_cost 0.0124330, tr_err 0.0009756 | val_err 0.2695652, val_pr 0.6855289, val_rc 0.6596283\n",
      "At epoch 29 : tr_cost 0.0187291, tr_err 0.0009756 | val_err 0.2739131, val_pr 0.6818264, val_rc 0.6747666\n",
      "At epoch 30 : tr_cost 0.0133387, tr_err 0.0009756 | val_err 0.2695652, val_pr 0.6855289, val_rc 0.6596283\n",
      "At epoch 31 : tr_cost 0.0192385, tr_err 0.0009756 | val_err 0.2739131, val_pr 0.6818264, val_rc 0.6747666\n",
      "At epoch 32 : tr_cost 0.0136293, tr_err 0.0009756 | val_err 0.2695652, val_pr 0.6855289, val_rc 0.6596283\n",
      "At epoch 33 : tr_cost 0.0195668, tr_err 0.0009756 | val_err 0.2695652, val_pr 0.6867503, val_rc 0.6779513\n",
      "At epoch 34 : tr_cost 0.0141412, tr_err 0.0009756 | val_err 0.2695652, val_pr 0.6855289, val_rc 0.6596283\n",
      "At epoch 35 : tr_cost 0.0204307, tr_err 0.0009756 | val_err 0.2739131, val_pr 0.6818264, val_rc 0.6747666\n",
      "At epoch 36 : tr_cost 0.0150314, tr_err 0.0009756 | val_err 0.2695652, val_pr 0.6855289, val_rc 0.6596283\n",
      "At epoch 37 : tr_cost 0.0212986, tr_err 0.0009756 | val_err 0.2739131, val_pr 0.6818264, val_rc 0.6747666\n",
      "At epoch 38 : tr_cost 0.0154621, tr_err 0.0009756 | val_err 0.2695652, val_pr 0.6855289, val_rc 0.6596283\n",
      "At epoch 39 : tr_cost 0.0222005, tr_err 0.0009756 | val_err 0.2695652, val_pr 0.6867503, val_rc 0.6779513\n"
     ]
    },
    {
     "data": {
      "text/markdown": [
       "### Performance evaluation"
      ],
      "text/plain": [
       "<IPython.core.display.Markdown object>"
      ]
     },
     "metadata": {},
     "output_type": "display_data"
    },
    {
     "data": {
      "image/png": "[encoded data removed]",
      "text/plain": [
       "<matplotlib.figure.Figure at 0x2984fd5f320>"
      ]
     },
     "metadata": {},
     "output_type": "display_data"
    },
    {
     "name": "stdout",
     "output_type": "stream",
     "text": [
      "Test accuracy: 0.731601731602\n"
     ]
    },
    {
     "data": {
      "text/html": [
       "<div>\n",
       "<style>\n",
       "    .dataframe thead tr:only-child th {\n",
       "        text-align: right;\n",
       "    }\n",
       "\n",
       "    .dataframe thead th {\n",
       "        text-align: left;\n",
       "    }\n",
       "\n",
       "    .dataframe tbody tr th {\n",
       "        vertical-align: top;\n",
       "    }\n",
       "</style>\n",
       "<table border=\"1\" class=\"dataframe\">\n",
       "  <thead>\n",
       "    <tr style=\"text-align: right;\">\n",
       "      <th>predictions</th>\n",
       "      <th>acne</th>\n",
       "      <th>rosacea</th>\n",
       "      <th>recall</th>\n",
       "    </tr>\n",
       "    <tr>\n",
       "      <th>true labels</th>\n",
       "      <th></th>\n",
       "      <th></th>\n",
       "      <th></th>\n",
       "    </tr>\n",
       "  </thead>\n",
       "  <tbody>\n",
       "    <tr>\n",
       "      <th>acne</th>\n",
       "      <td>39</td>\n",
       "      <td>34</td>\n",
       "      <td>0.534</td>\n",
       "    </tr>\n",
       "    <tr>\n",
       "      <th>rosacea</th>\n",
       "      <td>28</td>\n",
       "      <td>130</td>\n",
       "      <td>0.822</td>\n",
       "    </tr>\n",
       "    <tr>\n",
       "      <th>precision</th>\n",
       "      <td>0.582</td>\n",
       "      <td>0.792</td>\n",
       "      <td></td>\n",
       "    </tr>\n",
       "  </tbody>\n",
       "</table>\n",
       "</div>"
      ],
      "text/plain": [
       "predictions   acne rosacea recall\n",
       "true labels                      \n",
       "acne            39      34  0.534\n",
       "rosacea         28     130  0.822\n",
       "precision    0.582   0.792       "
      ]
     },
     "execution_count": 8,
     "metadata": {},
     "output_type": "execute_result"
    }
   ],
   "source": [
    "tr_cost, tr_err, val_err, confusion_matrix = train_model(n_epochs=40, train_batch_size=50,\n",
    "                                                         val_batch_size=10, spn=False,\n",
    "                                                         writer_path=\"tb_logs/baseline_nospn_debug0\")\n",
    "\n",
    "printmd(\"### Performance evaluation\")\n",
    "fig, (ax1, ax2) = plt.subplots(1,2, figsize=(13,5))\n",
    "ax1.plot(tr_cost, label=\"Training loss\")\n",
    "ax1.set_title(\"Loss - Binary Crossentropy\")\n",
    "ax1.set_xlabel(\"Epoch\")\n",
    "ax1.set_ylabel(\"Loss [Binary crossentropy]\")\n",
    "ax2.plot(np.subtract(1,tr_err), label=\"Training accuracy\")\n",
    "ax2.plot(np.subtract(1,val_err), label=\"Test accuracy\")\n",
    "ax2.set_title(\"Accuracy\")\n",
    "ax2.set_xlabel(\"Epoch\")\n",
    "ax2.set_ylabel(\"Accuracy\")\n",
    "ax1.legend()\n",
    "ax2.legend()\n",
    "plt.show()\n",
    "\n",
    "precision_recall(confusion_matrix)"
   ]
  }
 ],
 "metadata": {
  "kernelspec": {
   "display_name": "Python 3",
   "language": "python",
   "name": "python3"
  },
  "language_info": {
   "codemirror_mode": {
    "name": "ipython",
    "version": 3
   },
   "file_extension": ".py",
   "mimetype": "text/x-python",
   "name": "python",
   "nbconvert_exporter": "python",
   "pygments_lexer": "ipython3",
   "version": "3.5.3"
  }
 },
 "nbformat": 4,
 "nbformat_minor": 2
}
